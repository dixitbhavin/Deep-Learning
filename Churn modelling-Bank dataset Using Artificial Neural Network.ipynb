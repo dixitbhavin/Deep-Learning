{
 "cells": [
  {
   "cell_type": "code",
   "execution_count": 1,
   "metadata": {},
   "outputs": [],
   "source": [
    "import numpy as np\n",
    "import matplotlib.pyplot as plt\n",
    "import pandas as pd"
   ]
  },
  {
   "cell_type": "code",
   "execution_count": 3,
   "metadata": {},
   "outputs": [],
   "source": [
    "dataset = pd.read_csv('churn.csv')"
   ]
  },
  {
   "cell_type": "code",
   "execution_count": 4,
   "metadata": {},
   "outputs": [],
   "source": [
    "X = dataset.iloc[:, 3:13]\n",
    "y = dataset.iloc[:, 13]"
   ]
  },
  {
   "cell_type": "code",
   "execution_count": 5,
   "metadata": {},
   "outputs": [],
   "source": [
    "# Create dummy variables for gender and geography\n",
    "geography=pd.get_dummies(X[\"Geography\"],drop_first=True)\n",
    "gender=pd.get_dummies(X['Gender'],drop_first=True)"
   ]
  },
  {
   "cell_type": "code",
   "execution_count": 6,
   "metadata": {},
   "outputs": [],
   "source": [
    "## Concatenate the Data Frames\n",
    "\n",
    "X=pd.concat([X,geography,gender],axis=1)"
   ]
  },
  {
   "cell_type": "code",
   "execution_count": 7,
   "metadata": {},
   "outputs": [],
   "source": [
    "## Drop Unnecessary columns\n",
    "X=X.drop(['Geography','Gender'],axis=1)"
   ]
  },
  {
   "cell_type": "code",
   "execution_count": 8,
   "metadata": {},
   "outputs": [],
   "source": [
    "# Splitting the dataset into the Training set and Test set\n",
    "from sklearn.model_selection import train_test_split\n",
    "X_train, X_test, y_train, y_test = train_test_split(X, y, test_size = 0.2, random_state = 0)"
   ]
  },
  {
   "cell_type": "code",
   "execution_count": 9,
   "metadata": {},
   "outputs": [],
   "source": [
    "from sklearn.preprocessing import StandardScaler\n",
    "sc=StandardScaler()\n",
    "X_train=sc.fit_transform(X_train)\n",
    "X_test=sc.transform(X_test)"
   ]
  },
  {
   "cell_type": "code",
   "execution_count": 10,
   "metadata": {},
   "outputs": [],
   "source": [
    "import keras\n",
    "from keras.models import Sequential\n",
    "from keras.layers import Dense\n",
    "from keras.layers import Dropout"
   ]
  },
  {
   "cell_type": "code",
   "execution_count": 11,
   "metadata": {},
   "outputs": [],
   "source": [
    "#Initialize ANN\n",
    "classifier=Sequential()"
   ]
  },
  {
   "cell_type": "code",
   "execution_count": 12,
   "metadata": {},
   "outputs": [],
   "source": [
    "# Adding input layes and 1st hidden layer\n",
    "classifier.add(Dense(units=6,kernel_initializer='he_uniform',activation='relu',input_dim=11))"
   ]
  },
  {
   "cell_type": "code",
   "execution_count": 13,
   "metadata": {},
   "outputs": [],
   "source": [
    "# Adding second layer\n",
    "classifier.add(Dense(units=6,kernel_initializer='he_uniform',activation='relu'))"
   ]
  },
  {
   "cell_type": "code",
   "execution_count": 15,
   "metadata": {},
   "outputs": [],
   "source": [
    "# Output layer\n",
    "classifier.add(Dense(units=1,kernel_initializer='glorot_uniform',activation='sigmoid'))"
   ]
  },
  {
   "cell_type": "code",
   "execution_count": 17,
   "metadata": {},
   "outputs": [
    {
     "name": "stdout",
     "output_type": "stream",
     "text": [
      "WARNING:tensorflow:From C:\\Users\\dixit\\Anaconda3\\lib\\site-packages\\tensorflow\\python\\ops\\nn_impl.py:180: add_dispatch_support.<locals>.wrapper (from tensorflow.python.ops.array_ops) is deprecated and will be removed in a future version.\n",
      "Instructions for updating:\n",
      "Use tf.where in 2.0, which has the same broadcast rule as np.where\n"
     ]
    }
   ],
   "source": [
    "# Compiling ANN\n",
    "classifier.compile(optimizer='adam',loss='binary_crossentropy',metrics=[\"accuracy\"])"
   ]
  },
  {
   "cell_type": "code",
   "execution_count": 16,
   "metadata": {},
   "outputs": [
    {
     "name": "stdout",
     "output_type": "stream",
     "text": [
      "Model: \"sequential_1\"\n",
      "_________________________________________________________________\n",
      "Layer (type)                 Output Shape              Param #   \n",
      "=================================================================\n",
      "dense_1 (Dense)              (None, 6)                 72        \n",
      "_________________________________________________________________\n",
      "dense_2 (Dense)              (None, 6)                 42        \n",
      "_________________________________________________________________\n",
      "dense_3 (Dense)              (None, 1)                 7         \n",
      "_________________________________________________________________\n",
      "dense_4 (Dense)              (None, 1)                 2         \n",
      "=================================================================\n",
      "Total params: 123\n",
      "Trainable params: 123\n",
      "Non-trainable params: 0\n",
      "_________________________________________________________________\n"
     ]
    }
   ],
   "source": [
    "classifier.summary()"
   ]
  },
  {
   "cell_type": "code",
   "execution_count": 18,
   "metadata": {},
   "outputs": [
    {
     "name": "stderr",
     "output_type": "stream",
     "text": [
      "C:\\Users\\dixit\\Anaconda3\\lib\\site-packages\\ipykernel_launcher.py:1: UserWarning: The `nb_epoch` argument in `fit` has been renamed `epochs`.\n",
      "  \"\"\"Entry point for launching an IPython kernel.\n"
     ]
    },
    {
     "name": "stdout",
     "output_type": "stream",
     "text": [
      "WARNING:tensorflow:From C:\\Users\\dixit\\Anaconda3\\lib\\site-packages\\keras\\backend\\tensorflow_backend.py:422: The name tf.global_variables is deprecated. Please use tf.compat.v1.global_variables instead.\n",
      "\n",
      "Train on 5359 samples, validate on 2641 samples\n",
      "Epoch 1/100\n",
      "5359/5359 [==============================] - 1s 159us/step - loss: 0.7841 - accuracy: 0.4338 - val_loss: 0.6164 - val_accuracy: 0.7766\n",
      "Epoch 2/100\n",
      "5359/5359 [==============================] - 1s 126us/step - loss: 0.5706 - accuracy: 0.7996 - val_loss: 0.5433 - val_accuracy: 0.7978\n",
      "Epoch 3/100\n",
      "5359/5359 [==============================] - 1s 116us/step - loss: 0.5232 - accuracy: 0.7979 - val_loss: 0.5132 - val_accuracy: 0.7959\n",
      "Epoch 4/100\n",
      "5359/5359 [==============================] - 1s 119us/step - loss: 0.4974 - accuracy: 0.7966 - val_loss: 0.4946 - val_accuracy: 0.7955\n",
      "Epoch 5/100\n",
      "5359/5359 [==============================] - 1s 125us/step - loss: 0.4792 - accuracy: 0.7962 - val_loss: 0.4812 - val_accuracy: 0.7955\n",
      "Epoch 6/100\n",
      "5359/5359 [==============================] - 1s 118us/step - loss: 0.4654 - accuracy: 0.7962 - val_loss: 0.4706 - val_accuracy: 0.7955\n",
      "Epoch 7/100\n",
      "5359/5359 [==============================] - 1s 123us/step - loss: 0.4543 - accuracy: 0.7962 - val_loss: 0.4631 - val_accuracy: 0.7955\n",
      "Epoch 8/100\n",
      "5359/5359 [==============================] - 1s 119us/step - loss: 0.4454 - accuracy: 0.7962 - val_loss: 0.4575 - val_accuracy: 0.7955\n",
      "Epoch 9/100\n",
      "5359/5359 [==============================] - 1s 123us/step - loss: 0.4382 - accuracy: 0.8026 - val_loss: 0.4523 - val_accuracy: 0.8054\n",
      "Epoch 10/100\n",
      "5359/5359 [==============================] - 1s 121us/step - loss: 0.4311 - accuracy: 0.8199 - val_loss: 0.4471 - val_accuracy: 0.82010s - loss: 0.4352 - accura\n",
      "Epoch 11/100\n",
      "5359/5359 [==============================] - 1s 129us/step - loss: 0.4241 - accuracy: 0.8285 - val_loss: 0.4414 - val_accuracy: 0.8152\n",
      "Epoch 12/100\n",
      "5359/5359 [==============================] - 1s 146us/step - loss: 0.4175 - accuracy: 0.8321 - val_loss: 0.4353 - val_accuracy: 0.8209\n",
      "Epoch 13/100\n",
      "5359/5359 [==============================] - 1s 122us/step - loss: 0.4111 - accuracy: 0.8347 - val_loss: 0.4296 - val_accuracy: 0.8205\n",
      "Epoch 14/100\n",
      "5359/5359 [==============================] - 1s 120us/step - loss: 0.4048 - accuracy: 0.8416 - val_loss: 0.4237 - val_accuracy: 0.8236\n",
      "Epoch 15/100\n",
      "5359/5359 [==============================] - 1s 127us/step - loss: 0.3986 - accuracy: 0.8466 - val_loss: 0.4187 - val_accuracy: 0.8220\n",
      "Epoch 16/100\n",
      "5359/5359 [==============================] - 1s 123us/step - loss: 0.3934 - accuracy: 0.8513 - val_loss: 0.4132 - val_accuracy: 0.8254\n",
      "Epoch 17/100\n",
      "5359/5359 [==============================] - ETA: 0s - loss: 0.3879 - accuracy: 0.8504 ETA: 0s - loss: 0.3853 - accu - 1s 124us/step - loss: 0.3883 - accuracy: 0.8498 - val_loss: 0.4082 - val_accuracy: 0.8323\n",
      "Epoch 18/100\n",
      "5359/5359 [==============================] - 1s 119us/step - loss: 0.3842 - accuracy: 0.8530 - val_loss: 0.4047 - val_accuracy: 0.8311\n",
      "Epoch 19/100\n",
      "5359/5359 [==============================] - 1s 117us/step - loss: 0.3807 - accuracy: 0.8530 - val_loss: 0.4012 - val_accuracy: 0.8379\n",
      "Epoch 20/100\n",
      "5359/5359 [==============================] - 1s 116us/step - loss: 0.3773 - accuracy: 0.8533 - val_loss: 0.3980 - val_accuracy: 0.8387\n",
      "Epoch 21/100\n",
      "5359/5359 [==============================] - 1s 115us/step - loss: 0.3742 - accuracy: 0.8559 - val_loss: 0.3950 - val_accuracy: 0.8406\n",
      "Epoch 22/100\n",
      "5359/5359 [==============================] - 1s 116us/step - loss: 0.3718 - accuracy: 0.8546 - val_loss: 0.3931 - val_accuracy: 0.8425\n",
      "Epoch 23/100\n",
      "5359/5359 [==============================] - 1s 119us/step - loss: 0.3697 - accuracy: 0.8550 - val_loss: 0.3916 - val_accuracy: 0.8421\n",
      "Epoch 24/100\n",
      "5359/5359 [==============================] - 1s 119us/step - loss: 0.3679 - accuracy: 0.8565 - val_loss: 0.3894 - val_accuracy: 0.8444\n",
      "Epoch 25/100\n",
      "5359/5359 [==============================] - 1s 115us/step - loss: 0.3661 - accuracy: 0.8567 - val_loss: 0.3878 - val_accuracy: 0.8444\n",
      "Epoch 26/100\n",
      "5359/5359 [==============================] - 1s 116us/step - loss: 0.3643 - accuracy: 0.8578 - val_loss: 0.3864 - val_accuracy: 0.8440\n",
      "Epoch 27/100\n",
      "5359/5359 [==============================] - 1s 119us/step - loss: 0.3628 - accuracy: 0.8593 - val_loss: 0.3849 - val_accuracy: 0.8432\n",
      "Epoch 28/100\n",
      "5359/5359 [==============================] - 1s 116us/step - loss: 0.3609 - accuracy: 0.8593 - val_loss: 0.3843 - val_accuracy: 0.8440\n",
      "Epoch 29/100\n",
      "5359/5359 [==============================] - 1s 116us/step - loss: 0.3600 - accuracy: 0.8591 - val_loss: 0.3823 - val_accuracy: 0.8470\n",
      "Epoch 30/100\n",
      "5359/5359 [==============================] - 1s 119us/step - loss: 0.3581 - accuracy: 0.8614 - val_loss: 0.3808 - val_accuracy: 0.8474\n",
      "Epoch 31/100\n",
      "5359/5359 [==============================] - 1s 124us/step - loss: 0.3571 - accuracy: 0.8587 - val_loss: 0.3790 - val_accuracy: 0.84740s - loss: 0.3588 - accuracy: 0.85\n",
      "Epoch 32/100\n",
      "5359/5359 [==============================] - 1s 118us/step - loss: 0.3556 - accuracy: 0.8602 - val_loss: 0.3786 - val_accuracy: 0.8466\n",
      "Epoch 33/100\n",
      "5359/5359 [==============================] - 1s 130us/step - loss: 0.3545 - accuracy: 0.8597 - val_loss: 0.3769 - val_accuracy: 0.8485\n",
      "Epoch 34/100\n",
      "5359/5359 [==============================] - 1s 146us/step - loss: 0.3530 - accuracy: 0.8602 - val_loss: 0.3763 - val_accuracy: 0.8470\n",
      "Epoch 35/100\n",
      "5359/5359 [==============================] - 1s 128us/step - loss: 0.3521 - accuracy: 0.8615 - val_loss: 0.3758 - val_accuracy: 0.8474\n",
      "Epoch 36/100\n",
      "5359/5359 [==============================] - 1s 128us/step - loss: 0.3511 - accuracy: 0.8615 - val_loss: 0.3763 - val_accuracy: 0.8466\n",
      "Epoch 37/100\n",
      "5359/5359 [==============================] - 1s 121us/step - loss: 0.3502 - accuracy: 0.8625 - val_loss: 0.3755 - val_accuracy: 0.8463\n",
      "Epoch 38/100\n",
      "5359/5359 [==============================] - 1s 120us/step - loss: 0.3496 - accuracy: 0.8608 - val_loss: 0.3739 - val_accuracy: 0.8455\n",
      "Epoch 39/100\n",
      "5359/5359 [==============================] - 1s 147us/step - loss: 0.3486 - accuracy: 0.8627 - val_loss: 0.3728 - val_accuracy: 0.8478\n",
      "Epoch 40/100\n",
      "5359/5359 [==============================] - 1s 118us/step - loss: 0.3477 - accuracy: 0.8625 - val_loss: 0.3733 - val_accuracy: 0.8474\n",
      "Epoch 41/100\n",
      "5359/5359 [==============================] - 1s 118us/step - loss: 0.3470 - accuracy: 0.8634 - val_loss: 0.3719 - val_accuracy: 0.8455\n",
      "Epoch 42/100\n",
      "5359/5359 [==============================] - 1s 120us/step - loss: 0.3465 - accuracy: 0.8642 - val_loss: 0.3716 - val_accuracy: 0.8463\n",
      "Epoch 43/100\n",
      "5359/5359 [==============================] - 1s 123us/step - loss: 0.3464 - accuracy: 0.8638 - val_loss: 0.3714 - val_accuracy: 0.8459\n",
      "Epoch 44/100\n",
      "5359/5359 [==============================] - 1s 121us/step - loss: 0.3458 - accuracy: 0.8636 - val_loss: 0.3713 - val_accuracy: 0.8463\n",
      "Epoch 45/100\n",
      "5359/5359 [==============================] - 1s 116us/step - loss: 0.3452 - accuracy: 0.8634 - val_loss: 0.3707 - val_accuracy: 0.8474\n",
      "Epoch 46/100\n",
      "5359/5359 [==============================] - 1s 115us/step - loss: 0.3449 - accuracy: 0.8621 - val_loss: 0.3691 - val_accuracy: 0.8482\n",
      "Epoch 47/100\n",
      "5359/5359 [==============================] - 1s 115us/step - loss: 0.3443 - accuracy: 0.8621 - val_loss: 0.3694 - val_accuracy: 0.8474\n",
      "Epoch 48/100\n",
      "5359/5359 [==============================] - 1s 116us/step - loss: 0.3441 - accuracy: 0.8647 - val_loss: 0.3698 - val_accuracy: 0.8485\n",
      "Epoch 49/100\n",
      "5359/5359 [==============================] - 1s 119us/step - loss: 0.3438 - accuracy: 0.8640 - val_loss: 0.3678 - val_accuracy: 0.8470\n",
      "Epoch 50/100\n",
      "5359/5359 [==============================] - 1s 118us/step - loss: 0.3427 - accuracy: 0.8634 - val_loss: 0.3675 - val_accuracy: 0.8474\n",
      "Epoch 51/100\n",
      "5359/5359 [==============================] - 1s 116us/step - loss: 0.3427 - accuracy: 0.8640 - val_loss: 0.3684 - val_accuracy: 0.8470\n",
      "Epoch 52/100\n",
      "5359/5359 [==============================] - 1s 116us/step - loss: 0.3424 - accuracy: 0.8656 - val_loss: 0.3683 - val_accuracy: 0.8474\n",
      "Epoch 53/100\n",
      "5359/5359 [==============================] - 1s 115us/step - loss: 0.3422 - accuracy: 0.8628 - val_loss: 0.3684 - val_accuracy: 0.8474\n"
     ]
    },
    {
     "name": "stdout",
     "output_type": "stream",
     "text": [
      "Epoch 54/100\n",
      "5359/5359 [==============================] - 1s 116us/step - loss: 0.3420 - accuracy: 0.8632 - val_loss: 0.3677 - val_accuracy: 0.8478\n",
      "Epoch 55/100\n",
      "5359/5359 [==============================] - 1s 116us/step - loss: 0.3416 - accuracy: 0.8647 - val_loss: 0.3661 - val_accuracy: 0.8485\n",
      "Epoch 56/100\n",
      "5359/5359 [==============================] - 1s 116us/step - loss: 0.3412 - accuracy: 0.8640 - val_loss: 0.3660 - val_accuracy: 0.8493\n",
      "Epoch 57/100\n",
      "5359/5359 [==============================] - 1s 115us/step - loss: 0.3412 - accuracy: 0.8643 - val_loss: 0.3672 - val_accuracy: 0.8470\n",
      "Epoch 58/100\n",
      "5359/5359 [==============================] - 1s 136us/step - loss: 0.3409 - accuracy: 0.8634 - val_loss: 0.3661 - val_accuracy: 0.8474\n",
      "Epoch 59/100\n",
      "5359/5359 [==============================] - 1s 115us/step - loss: 0.3402 - accuracy: 0.8627 - val_loss: 0.3658 - val_accuracy: 0.8485\n",
      "Epoch 60/100\n",
      "5359/5359 [==============================] - 1s 115us/step - loss: 0.3395 - accuracy: 0.8642 - val_loss: 0.3658 - val_accuracy: 0.8474\n",
      "Epoch 61/100\n",
      "5359/5359 [==============================] - 1s 116us/step - loss: 0.3400 - accuracy: 0.8630 - val_loss: 0.3650 - val_accuracy: 0.8497\n",
      "Epoch 62/100\n",
      "5359/5359 [==============================] - 1s 119us/step - loss: 0.3398 - accuracy: 0.8643 - val_loss: 0.3657 - val_accuracy: 0.8478\n",
      "Epoch 63/100\n",
      "5359/5359 [==============================] - 1s 127us/step - loss: 0.3396 - accuracy: 0.8645 - val_loss: 0.3664 - val_accuracy: 0.8485\n",
      "Epoch 64/100\n",
      "5359/5359 [==============================] - 1s 121us/step - loss: 0.3393 - accuracy: 0.8645 - val_loss: 0.3647 - val_accuracy: 0.8485\n",
      "Epoch 65/100\n",
      "5359/5359 [==============================] - 1s 126us/step - loss: 0.3391 - accuracy: 0.8660 - val_loss: 0.3647 - val_accuracy: 0.8485\n",
      "Epoch 66/100\n",
      "5359/5359 [==============================] - 1s 119us/step - loss: 0.3393 - accuracy: 0.8645 - val_loss: 0.3642 - val_accuracy: 0.8485\n",
      "Epoch 67/100\n",
      "5359/5359 [==============================] - 1s 118us/step - loss: 0.3385 - accuracy: 0.8643 - val_loss: 0.3653 - val_accuracy: 0.8455\n",
      "Epoch 68/100\n",
      "5359/5359 [==============================] - 1s 121us/step - loss: 0.3385 - accuracy: 0.8638 - val_loss: 0.3648 - val_accuracy: 0.8493\n",
      "Epoch 69/100\n",
      "5359/5359 [==============================] - 1s 118us/step - loss: 0.3389 - accuracy: 0.8623 - val_loss: 0.3639 - val_accuracy: 0.8493\n",
      "Epoch 70/100\n",
      "5359/5359 [==============================] - 1s 118us/step - loss: 0.3383 - accuracy: 0.8653 - val_loss: 0.3640 - val_accuracy: 0.8482\n",
      "Epoch 71/100\n",
      "5359/5359 [==============================] - 1s 120us/step - loss: 0.3384 - accuracy: 0.8623 - val_loss: 0.3635 - val_accuracy: 0.8501\n",
      "Epoch 72/100\n",
      "5359/5359 [==============================] - 1s 116us/step - loss: 0.3379 - accuracy: 0.8627 - val_loss: 0.3624 - val_accuracy: 0.8497\n",
      "Epoch 73/100\n",
      "5359/5359 [==============================] - 1s 123us/step - loss: 0.3378 - accuracy: 0.8621 - val_loss: 0.3633 - val_accuracy: 0.8485 0.3379 - accuracy: 0.86\n",
      "Epoch 74/100\n",
      "5359/5359 [==============================] - 1s 116us/step - loss: 0.3378 - accuracy: 0.8623 - val_loss: 0.3627 - val_accuracy: 0.8501\n",
      "Epoch 75/100\n",
      "5359/5359 [==============================] - 1s 117us/step - loss: 0.3374 - accuracy: 0.8630 - val_loss: 0.3632 - val_accuracy: 0.8493\n",
      "Epoch 76/100\n",
      "5359/5359 [==============================] - 1s 115us/step - loss: 0.3374 - accuracy: 0.8640 - val_loss: 0.3639 - val_accuracy: 0.8497\n",
      "Epoch 77/100\n",
      "5359/5359 [==============================] - 1s 120us/step - loss: 0.3375 - accuracy: 0.8630 - val_loss: 0.3619 - val_accuracy: 0.8501\n",
      "Epoch 78/100\n",
      "5359/5359 [==============================] - 1s 119us/step - loss: 0.3369 - accuracy: 0.8632 - val_loss: 0.3639 - val_accuracy: 0.8493\n",
      "Epoch 79/100\n",
      "5359/5359 [==============================] - 1s 118us/step - loss: 0.3368 - accuracy: 0.8628 - val_loss: 0.3643 - val_accuracy: 0.8485\n",
      "Epoch 80/100\n",
      "5359/5359 [==============================] - 1s 115us/step - loss: 0.3369 - accuracy: 0.8630 - val_loss: 0.3615 - val_accuracy: 0.8501\n",
      "Epoch 81/100\n",
      "5359/5359 [==============================] - 1s 120us/step - loss: 0.3369 - accuracy: 0.8617 - val_loss: 0.3615 - val_accuracy: 0.8504\n",
      "Epoch 82/100\n",
      "5359/5359 [==============================] - 1s 118us/step - loss: 0.3372 - accuracy: 0.8619 - val_loss: 0.3616 - val_accuracy: 0.8538\n",
      "Epoch 83/100\n",
      "5359/5359 [==============================] - ETA: 0s - loss: 0.3310 - accuracy: 0.86 - 1s 119us/step - loss: 0.3363 - accuracy: 0.8623 - val_loss: 0.3649 - val_accuracy: 0.8489\n",
      "Epoch 84/100\n",
      "5359/5359 [==============================] - 1s 118us/step - loss: 0.3369 - accuracy: 0.8632 - val_loss: 0.3627 - val_accuracy: 0.8501\n",
      "Epoch 85/100\n",
      "5359/5359 [==============================] - 1s 116us/step - loss: 0.3367 - accuracy: 0.8636 - val_loss: 0.3616 - val_accuracy: 0.8493\n",
      "Epoch 86/100\n",
      "5359/5359 [==============================] - 1s 116us/step - loss: 0.3363 - accuracy: 0.8625 - val_loss: 0.3616 - val_accuracy: 0.8493\n",
      "Epoch 87/100\n",
      "5359/5359 [==============================] - 1s 151us/step - loss: 0.3369 - accuracy: 0.8614 - val_loss: 0.3609 - val_accuracy: 0.8512\n",
      "Epoch 88/100\n",
      "5359/5359 [==============================] - 1s 121us/step - loss: 0.3363 - accuracy: 0.8623 - val_loss: 0.3620 - val_accuracy: 0.8485\n",
      "Epoch 89/100\n",
      "5359/5359 [==============================] - 1s 118us/step - loss: 0.3365 - accuracy: 0.8628 - val_loss: 0.3606 - val_accuracy: 0.8501\n",
      "Epoch 90/100\n",
      "5359/5359 [==============================] - 1s 120us/step - loss: 0.3363 - accuracy: 0.8612 - val_loss: 0.3608 - val_accuracy: 0.8501\n",
      "Epoch 91/100\n",
      "5359/5359 [==============================] - 1s 120us/step - loss: 0.3362 - accuracy: 0.8627 - val_loss: 0.3615 - val_accuracy: 0.8497\n",
      "Epoch 92/100\n",
      "5359/5359 [==============================] - 1s 118us/step - loss: 0.3361 - accuracy: 0.8628 - val_loss: 0.3626 - val_accuracy: 0.8466\n",
      "Epoch 93/100\n",
      "5359/5359 [==============================] - 1s 134us/step - loss: 0.3366 - accuracy: 0.8621 - val_loss: 0.3609 - val_accuracy: 0.8489\n",
      "Epoch 94/100\n",
      "5359/5359 [==============================] - 1s 123us/step - loss: 0.3355 - accuracy: 0.8604 - val_loss: 0.3609 - val_accuracy: 0.8497\n",
      "Epoch 95/100\n",
      "5359/5359 [==============================] - 1s 123us/step - loss: 0.3354 - accuracy: 0.8627 - val_loss: 0.3624 - val_accuracy: 0.8485\n",
      "Epoch 96/100\n",
      "5359/5359 [==============================] - 1s 123us/step - loss: 0.3360 - accuracy: 0.8632 - val_loss: 0.3610 - val_accuracy: 0.8504\n",
      "Epoch 97/100\n",
      "5359/5359 [==============================] - 1s 134us/step - loss: 0.3359 - accuracy: 0.8612 - val_loss: 0.3603 - val_accuracy: 0.8538\n",
      "Epoch 98/100\n",
      "5359/5359 [==============================] - 1s 119us/step - loss: 0.3359 - accuracy: 0.8636 - val_loss: 0.3627 - val_accuracy: 0.8493\n",
      "Epoch 99/100\n",
      "5359/5359 [==============================] - 1s 116us/step - loss: 0.3360 - accuracy: 0.8625 - val_loss: 0.3600 - val_accuracy: 0.8512\n",
      "Epoch 100/100\n",
      "5359/5359 [==============================] - 1s 131us/step - loss: 0.3361 - accuracy: 0.8630 - val_loss: 0.3632 - val_accuracy: 0.8497\n"
     ]
    }
   ],
   "source": [
    "model_history=classifier.fit(X_train,y_train,validation_split=0.33,batch_size=10,nb_epoch=100)"
   ]
  },
  {
   "cell_type": "code",
   "execution_count": 19,
   "metadata": {},
   "outputs": [],
   "source": [
    "## Predict the test result\n",
    "y_pred=classifier.predict(X_test)\n",
    "y_pred=(y_pred>0.5)"
   ]
  },
  {
   "cell_type": "code",
   "execution_count": 22,
   "metadata": {},
   "outputs": [
    {
     "data": {
      "text/plain": [
       "array([[1474,  121],\n",
       "       [ 180,  225]], dtype=int64)"
      ]
     },
     "execution_count": 22,
     "metadata": {},
     "output_type": "execute_result"
    }
   ],
   "source": [
    "## Confusion matrix\n",
    "from sklearn.metrics import confusion_matrix\n",
    "cm=confusion_matrix(y_test,y_pred)\n",
    "cm"
   ]
  },
  {
   "cell_type": "code",
   "execution_count": 23,
   "metadata": {},
   "outputs": [
    {
     "data": {
      "text/plain": [
       "0.8495"
      ]
     },
     "execution_count": 23,
     "metadata": {},
     "output_type": "execute_result"
    }
   ],
   "source": [
    "# Calculate accuracy\n",
    "from sklearn.metrics import accuracy_score\n",
    "score=accuracy_score(y_pred,y_test)\n",
    "score"
   ]
  },
  {
   "cell_type": "code",
   "execution_count": null,
   "metadata": {},
   "outputs": [],
   "source": []
  }
 ],
 "metadata": {
  "kernelspec": {
   "display_name": "Python 3",
   "language": "python",
   "name": "python3"
  },
  "language_info": {
   "codemirror_mode": {
    "name": "ipython",
    "version": 3
   },
   "file_extension": ".py",
   "mimetype": "text/x-python",
   "name": "python",
   "nbconvert_exporter": "python",
   "pygments_lexer": "ipython3",
   "version": "3.7.4"
  }
 },
 "nbformat": 4,
 "nbformat_minor": 2
}
